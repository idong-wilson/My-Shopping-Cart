{
 "cells": [
  {
   "cell_type": "code",
   "execution_count": null,
   "id": "b2073652",
   "metadata": {},
   "outputs": [],
   "source": []
  },
  {
   "cell_type": "code",
   "execution_count": 18,
   "id": "9f9109af",
   "metadata": {},
   "outputs": [],
   "source": [
    "# Shopping cart program with the capabilities to:\n",
    "\n",
    "# 1) Takes in an input\n",
    "# 2) Stores user input into a dictionary or list\n",
    "# 3) The User can add or delete items\n",
    "# 4) The User can see current shopping list\n",
    "# 5) The program Loops until user 'quits'\n",
    "# 6) Upon quiting the program, prints out a receipt of the items with total and quantity."
   ]
  },
  {
   "cell_type": "code",
   "execution_count": 19,
   "id": "0f44e40a",
   "metadata": {},
   "outputs": [],
   "source": [
    "from IPython.display import clear_output"
   ]
  },
  {
   "cell_type": "code",
   "execution_count": 24,
   "id": "0ff726e6",
   "metadata": {},
   "outputs": [
    {
     "name": "stdout",
     "output_type": "stream",
     "text": [
      "If you are not done, please make your selection:\n",
      "        Press 1 to add an item.\n",
      " \n",
      "        Press 2 to remove an item.\n",
      " \n",
      "        Press 3 to finish and check out.1\n",
      "Enter your item drum\n",
      "Quantity of the Drum 1\n",
      "Price of the Drum 123\n",
      "You currently have these in your cart\n",
      "1 Drum: 123.0 * 1 = 123.00\n",
      "If you are not done, please make your selection:\n",
      "        Press 1 to add an item.\n",
      " \n",
      "        Press 2 to remove an item.\n",
      " \n",
      "        Press 3 to finish and check out.1\n",
      "Enter your item book\n",
      "Quantity of the Book 3\n",
      "Price of the Book 23.42\n",
      "You currently have these in your cart\n",
      "1 Drum: 123.0 * 1 = 123.00\n",
      "3 Book: 23.42 * 3 = 70.26\n",
      "If you are not done, please make your selection:\n",
      "        Press 1 to add an item.\n",
      " \n",
      "        Press 2 to remove an item.\n",
      " \n",
      "        Press 3 to finish and check out.1\n",
      "Enter your item gum\n",
      "Quantity of the Gum 2\n",
      "Price of the Gum 2.99\n",
      "You currently have these in your cart\n",
      "1 Drum: 123.0 * 1 = 123.00\n",
      "3 Book: 23.42 * 3 = 70.26\n",
      "2 Gum: 2.99 * 2 = 5.98\n",
      "If you are not done, please make your selection:\n",
      "        Press 1 to add an item.\n",
      " \n",
      "        Press 2 to remove an item.\n",
      " \n",
      "        Press 3 to finish and check out.2\n",
      "What do you want to remove from cart? gum\n",
      "What do you want to do next? Please make your selection, 1 or 3 3\n",
      "Gum has been removed\n",
      "Your cart currently has: \n",
      "1 Drum: 123.0 * 1 = 123.00\n",
      "3 Book: 23.42 * 3 = 70.26\n",
      "Thank you for shopping with us today!\n",
      "Your total today is $193\n"
     ]
    },
    {
     "data": {
      "text/plain": [
       "{'Drum': {'item': 'Drum', 'quantity': 1, 'price': 123.0, 'cost': 123.0},\n",
       " 'Book': {'item': 'Book', 'quantity': 3, 'price': 23.42, 'cost': 70.26}}"
      ]
     },
     "execution_count": 24,
     "metadata": {},
     "output_type": "execute_result"
    }
   ],
   "source": [
    "def my_shopping_cart(my_cart={}):\n",
    "    total = []\n",
    "    \n",
    "    while True:\n",
    "        ask = input(\"\"\"If you are not done, please make your selection:\n",
    "        Press 1 to add an item.\\n \n",
    "        Press 2 to remove an item.\\n \n",
    "        Press 3 to finish and check out.\"\"\").lower()\n",
    "\n",
    "\n",
    "        while ask not in {'1', '2', '3'}:\n",
    "            clear_output()\n",
    "            ask = input('Please make your selection for 1, 2, or 3')\n",
    "\n",
    "\n",
    "        \n",
    "\n",
    "        if ask == '2':\n",
    "     #       clear_output()\n",
    "            for i in my_cart.items():\n",
    "                my_cart.pop(input(\"What do you want to remove from cart? \").title())\n",
    "                ask = input(\"What do you want to do next? Please make your selection, 1 or 3 \")\n",
    "                print(f\"{item} has been removed\")\n",
    "\n",
    "                break\n",
    "\n",
    "\n",
    "        if ask == '1':\n",
    "            \n",
    "            item = input(\"Enter your item \").title()\n",
    "            quantity = int(input(f\"Quantity of the {item} \"))\n",
    "            price = float(input(f\"Price of the {item} \"))\n",
    "            cost = int(quantity) * float(price)\n",
    "\n",
    "            # Update the cart\n",
    "            my_cart[item] = {'item': item, 'quantity': quantity, 'price': price, 'cost': cost}\n",
    "\n",
    "      #  clear_output()\n",
    "            print(f\"You currently have these in your cart\")\n",
    "\n",
    "\n",
    "            for item, info, in my_cart.items():\n",
    "                print(f\"{info['quantity']} {info['item']}: {info['price']} * {info['quantity']} = {info['cost']:.2f}\")\n",
    "\n",
    "            \n",
    "\n",
    "        if ask == '3':\n",
    "            #print(\" Hello this is your receipt\")\n",
    "            for item, info in my_cart.items():\n",
    "                total.append(int(info['cost']))\n",
    "\n",
    "                \n",
    "            break\n",
    "                \n",
    "    print(\"Your cart currently has: \")\n",
    "    for info in my_cart.keys():\n",
    "        print(f\"{my_cart[info]['quantity']} {my_cart[info]['item']}: {my_cart[info]['price']} * {my_cart[info]['quantity']} = {my_cart[info]['cost']:.2f}\")\n",
    "    total = sum(total)\n",
    "    print(\"Thank you for shopping with us today!\")\n",
    "    print(f\"Your total today is ${total}\")\n",
    "    return my_cart\n",
    "\n",
    "\n",
    "my_shopping_cart()"
   ]
  },
  {
   "cell_type": "code",
   "execution_count": null,
   "id": "28760287",
   "metadata": {},
   "outputs": [],
   "source": []
  }
 ],
 "metadata": {
  "kernelspec": {
   "display_name": "Python 3 (ipykernel)",
   "language": "python",
   "name": "python3"
  },
  "language_info": {
   "codemirror_mode": {
    "name": "ipython",
    "version": 3
   },
   "file_extension": ".py",
   "mimetype": "text/x-python",
   "name": "python",
   "nbconvert_exporter": "python",
   "pygments_lexer": "ipython3",
   "version": "3.9.12"
  }
 },
 "nbformat": 4,
 "nbformat_minor": 5
}
